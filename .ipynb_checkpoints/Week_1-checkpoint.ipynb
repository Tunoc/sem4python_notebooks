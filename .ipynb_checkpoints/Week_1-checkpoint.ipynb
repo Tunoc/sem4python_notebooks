{
 "cells": [
  {
   "cell_type": "markdown",
   "metadata": {},
   "source": [
    "# Week 1 handin\n",
    "\n",
    "## 01 Assignment\n",
    "    1) Create 5 list comprehensions to solve the following 5 problems:\n",
    "        A) Iterate a list of names to return a list of the names starting with H\n",
    "        B) In one line create a list of the numbers 1-100 to the power of 3\n",
    "        C) Iterate a list of names to create a list of tuples where the tuples first value is the length of the name and the second is the name\n",
    "        D) Iterate over each character in a string and get only those that are nummeric\n",
    "        E) Using only a list comprehension wrapped in set() get all possible combination from throwing 2 dice\n",
    "\n",
    "    2) Create 2 dictionary comprehensions to solve the following:\n",
    "        A) Iterate a list of names and create a dictionary where key is the name and value is the length of the name\n",
    "        B) Iterate a list of numbers and create a dictionary with (key, value) being (number, squareroot of number)\n",
    "\n",
    "    3) Progammatically using loops create a small program to produce a dictionary with all the 2 dice throw combinations as keys and their likelyhood in percent as values\n",
    "\n",
    "## 02 Status\n",
    "    I completed all the steps of the exercise.\n",
    "\n",
    "## 03 Solutions\n"
   ]
  },
  {
   "cell_type": "markdown",
   "metadata": {},
   "source": [
    "## 1) Create 5 list comprehensions to solve the following 5 problems:"
   ]
  },
  {
   "cell_type": "code",
   "execution_count": 1,
   "metadata": {},
   "outputs": [
    {
     "name": "stdout",
     "output_type": "stream",
     "text": [
      "All names: \n",
      "['Lars', 'Helle', 'Hans', 'hugo', 'Peter', 'Frank', 'Mads', 'Mikkel']\n",
      "List with matching start letter: \n",
      "['Helle', 'Hans', 'hugo']\n"
     ]
    }
   ],
   "source": [
    "#Iterate a list of names to return a list of the names starting with H\n",
    "names = [\"Lars\", \"Helle\", \"Hans\", \"hugo\", \"Peter\", \"Frank\", \"Mads\", \"Mikkel\"]\n",
    "print(\"All names: \\n\" + str(names))\n",
    "\n",
    "#Letter to filter\n",
    "filterLetter = \"H\"\n",
    "\n",
    "#list comprehension\n",
    "namesWith = [name for name in names if name[0].lower() == filterLetter.lower()]\n",
    "print(\"List with matching start letter: \\n\" + str(namesWith))"
   ]
  },
  {
   "cell_type": "code",
   "execution_count": 2,
   "metadata": {},
   "outputs": [
    {
     "name": "stdout",
     "output_type": "stream",
     "text": [
      "Numbers from 1 to 100 to the power of 3: \n",
      "[1, 8, 27, 64, 125, 216, 343, 512, 729, 1000, 1331, 1728, 2197, 2744, 3375, 4096, 4913, 5832, 6859, 8000, 9261, 10648, 12167, 13824, 15625, 17576, 19683, 21952, 24389, 27000, 29791, 32768, 35937, 39304, 42875, 46656, 50653, 54872, 59319, 64000, 68921, 74088, 79507, 85184, 91125, 97336, 103823, 110592, 117649, 125000, 132651, 140608, 148877, 157464, 166375, 175616, 185193, 195112, 205379, 216000, 226981, 238328, 250047, 262144, 274625, 287496, 300763, 314432, 328509, 343000, 357911, 373248, 389017, 405224, 421875, 438976, 456533, 474552, 493039, 512000, 531441, 551368, 571787, 592704, 614125, 636056, 658503, 681472, 704969, 729000, 753571, 778688, 804357, 830584, 857375, 884736, 912673, 941192, 970299, 1000000]\n"
     ]
    }
   ],
   "source": [
    "#In one line create a list of the numbers 1-100 to the power of 3\n",
    "powerOf3 = [i**3 for i in range(1,101)]\n",
    "print(\"Numbers from 1 to 100 to the power of 3: \\n\" + str(powerOf3))"
   ]
  },
  {
   "cell_type": "code",
   "execution_count": 3,
   "metadata": {},
   "outputs": [
    {
     "name": "stdout",
     "output_type": "stream",
     "text": [
      "All names: \n",
      "['Lars', 'Helle', 'Hans', 'hugo', 'Peter', 'Frank', 'Mads', 'Mikkel']\n",
      "Tupled names: \n",
      "[(4, 'Lars'), (5, 'Helle'), (4, 'Hans'), (4, 'hugo'), (5, 'Peter'), (5, 'Frank'), (4, 'Mads'), (6, 'Mikkel')]\n"
     ]
    }
   ],
   "source": [
    "#Iterate a list of names to create a list of tuples where the tuples first value is the length of the name and the second is the name\n",
    "names = [\"Lars\", \"Helle\", \"Hans\", \"hugo\", \"Peter\", \"Frank\", \"Mads\", \"Mikkel\"]\n",
    "print(\"All names: \\n\" + str(names))\n",
    "\n",
    "tupledNames = [(len(name),name) for name in names]\n",
    "print(\"Tupled names: \\n\" + str(tupledNames))\n",
    "\n"
   ]
  },
  {
   "cell_type": "code",
   "execution_count": 4,
   "metadata": {},
   "outputs": [
    {
     "name": "stdout",
     "output_type": "stream",
     "text": [
      "Original String: \n",
      "ds5 4dsgds g65sdf 65s f68 df9 gd sf1 gsd1fg 665\n",
      "All numbers from string: \n",
      "[5, 4, 6, 5, 6, 5, 6, 8, 9, 1, 1, 6, 6, 5]\n"
     ]
    }
   ],
   "source": [
    "#Iterate over each character in a string and get only those that are nummeric\n",
    "charString = \"ds5 4dsgds g65sdf 65s f68 df9 gd sf1 gsd1fg 665\"\n",
    "print(\"Original String: \\n\" + charString)\n",
    "\n",
    "numbersFromString = [int(word) for word in charString if word.isnumeric()]\n",
    "print(\"All numbers from string: \\n\" + str(numbersFromString))"
   ]
  },
  {
   "cell_type": "code",
   "execution_count": 15,
   "metadata": {},
   "outputs": [
    {
     "name": "stdout",
     "output_type": "stream",
     "text": [
      "All dice combinations: \n",
      "{(1, 3), (6, 6), (5, 6), (2, 1), (6, 2), (1, 6), (5, 1), (2, 5), (1, 2), (3, 3), (5, 5), (4, 4), (6, 3), (1, 5), (3, 6), (2, 2), (4, 1), (1, 1), (6, 4), (3, 2), (2, 6), (5, 4), (4, 5), (5, 2), (1, 4), (2, 3), (4, 2), (6, 5), (3, 5), (5, 3), (4, 6), (6, 1), (3, 1), (4, 3), (3, 4), (2, 4)}\n"
     ]
    }
   ],
   "source": [
    "#Using only a list comprehension wrapped in set() get all possible combination from throwing 2 dice\n",
    "diceCombinations = set([(die1, die2) for die1 in range(1,7) for die2 in range(1,7)])\n",
    "print(\"All dice combinations: \\n\" + str(diceCombinations))"
   ]
  },
  {
   "cell_type": "markdown",
   "metadata": {},
   "source": [
    "## 2) Create 2 dictionary comprehensions to solve the following:"
   ]
  },
  {
   "cell_type": "code",
   "execution_count": 6,
   "metadata": {},
   "outputs": [
    {
     "name": "stdout",
     "output_type": "stream",
     "text": [
      "All names: \n",
      "['Lars', 'Helle', 'Hans', 'hugo', 'Peter', 'Frank', 'Mads', 'Mikkel']\n",
      "Name dictionary: \n",
      "[{'Lars': 4}, {'Helle': 5}, {'Hans': 4}, {'hugo': 4}, {'Peter': 5}, {'Frank': 5}, {'Mads': 4}, {'Mikkel': 6}]\n"
     ]
    }
   ],
   "source": [
    "#Iterate a list of names and create a dictionary where key is the name and value is the length of the name\n",
    "names = [\"Lars\", \"Helle\", \"Hans\", \"hugo\", \"Peter\", \"Frank\", \"Mads\", \"Mikkel\"]\n",
    "print(\"All names: \\n\" + str(names))\n",
    "\n",
    "nameDictionary = [{name:len(name)} for name in names]\n",
    "print(\"Name dictionary: \\n\" + str(nameDictionary))"
   ]
  },
  {
   "cell_type": "code",
   "execution_count": 7,
   "metadata": {
    "scrolled": true
   },
   "outputs": [
    {
     "name": "stdout",
     "output_type": "stream",
     "text": [
      "All numbers: \n",
      "[1, 63, 1981, 18, 62, 95, 76, 759821308]\n",
      "Dictionary with square root numbers: \n",
      "[{1: 1.0}, {63: 7.937253933193772}, {1981: 44.50842616853577}, {18: 4.242640687119285}, {62: 7.874007874011811}, {95: 9.746794344808963}, {76: 8.717797887081348}, {759821308: 27564.856393603794}]\n"
     ]
    }
   ],
   "source": [
    "#Iterate a list of numbers and create a dictionary with (key, value) being (number, squareroot of number)\n",
    "import math\n",
    "numbersForSquareroot = [1, 63, 1981, 18, 62, 95, 76, 759821308]\n",
    "print(\"All numbers: \\n\" + str(numbersForSquareroot))\n",
    "\n",
    "numbersDictionary = [{number:math.sqrt(number)} for number in numbersForSquareroot]\n",
    "print(\"Dictionary with square root numbers: \\n\" + str(numbersDictionary))\n",
    "#We could also have used(number**0.5) in stead of the sqrt and math import."
   ]
  },
  {
   "cell_type": "markdown",
   "metadata": {},
   "source": [
    "## 3) Progammatically using loops create a small program to produce a dictionary with all the 2 dice throw combinations as keys and their likelyhood in percent as values"
   ]
  },
  {
   "cell_type": "code",
   "execution_count": null,
   "metadata": {},
   "outputs": [],
   "source": []
  }
 ],
 "metadata": {
  "kernelspec": {
   "display_name": "Python 3",
   "language": "python",
   "name": "python3"
  },
  "language_info": {
   "codemirror_mode": {
    "name": "ipython",
    "version": 3
   },
   "file_extension": ".py",
   "mimetype": "text/x-python",
   "name": "python",
   "nbconvert_exporter": "python",
   "pygments_lexer": "ipython3",
   "version": "3.7.6"
  }
 },
 "nbformat": 4,
 "nbformat_minor": 4
}
