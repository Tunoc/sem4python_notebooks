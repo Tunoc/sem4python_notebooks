{
 "cells": [
  {
   "cell_type": "markdown",
   "metadata": {},
   "source": [
    "# Week 2 handin\n",
    "\n",
    "## 01 Assignment\n",
    "#### EX1\n",
    "    1) Create a python file with 3 functions:\n",
    "        A) def print_file_content(file) that can print content of a csv file to the console\n",
    "        B) def write_list_to_file(output_file, lst) that can take a list of tuple and write each element to a new line in file\n",
    "        C) def read_csv(input_file) that take a csv file and read each row into a list\n",
    "    2) Add a functionality so that the file can be called from cli with 2 arguments\n",
    "        A) path to csv file\n",
    "        B) an argument --file file_name that if given will write the content to file_name or otherwise will print it to the console.\n",
    "    3) Add a --help cli argument to describe how the module is used \n",
    "\n",
    "#### EX2\n",
    "    1) Create a module called utils.py and put the following functions inside:\n",
    "        A) first function takes a path to a folder and writes all filenames in the folder to a specified output file\n",
    "        B) second takes a path to a folder and write all filenames recursively (files of all sub folders to)\n",
    "        C) third takes a list of filenames and print the first line of each\n",
    "        D) fourth takes a list of filenames and print each line that contains an email (just look for @)\n",
    "        E) fifth takes a list of md files and writes all headlines (lines starting with #) to a file Make sure your module can be called both from cli and imported to another module Create a new module that imports utils.py and test each function.\n",
    "\n",
    "## 02 Status\n",
    "    I completed all the steps of the exercise.\n",
    "\n",
    "## 03 Solutions\n"
   ]
  },
  {
   "cell_type": "markdown",
   "metadata": {},
   "source": [
    "## 1) Create a python file with 3 functions:"
   ]
  },
  {
   "cell_type": "code",
   "execution_count": null,
   "metadata": {},
   "outputs": [],
   "source": [
    "#def print_file_content(file) that can print content of a csv file to the console\n",
    "\n",
    "\n"
   ]
  }
 ],
 "metadata": {
  "kernelspec": {
   "display_name": "Python 3",
   "language": "python",
   "name": "python3"
  },
  "language_info": {
   "codemirror_mode": {
    "name": "ipython",
    "version": 3
   },
   "file_extension": ".py",
   "mimetype": "text/x-python",
   "name": "python",
   "nbconvert_exporter": "python",
   "pygments_lexer": "ipython3",
   "version": "3.7.6"
  }
 },
 "nbformat": 4,
 "nbformat_minor": 4
}
