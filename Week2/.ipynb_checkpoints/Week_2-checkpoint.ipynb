{
 "cells": [
  {
   "cell_type": "markdown",
   "metadata": {},
   "source": [
    "# Week 2 handin\n",
    "\n",
    "## 01 Assignment\n",
    "#### EX1\n",
    "    1) Create a python file with 3 functions:\n",
    "        A) def print_file_content(file) that can print content of a csv file to the console\n",
    "        B) def write_list_to_file(output_file, lst) that can take a list of tuple and write each element to a new line in file\n",
    "        C) def read_csv(input_file) that take a csv file and read each row into a list\n",
    "    2) Add a functionality so that the file can be called from cli with 2 arguments\n",
    "        A) path to csv file\n",
    "        B) an argument --file file_name that if given will write the content to file_name or otherwise will print it to the console.\n",
    "    3) Add a --help cli argument to describe how the module is used \n",
    "\n",
    "#### EX2\n",
    "    1) Create a module called utils.py and put the following functions inside:\n",
    "        A) first function takes a path to a folder and writes all filenames in the folder to a specified output file\n",
    "        B) second takes a path to a folder and write all filenames recursively (files of all sub folders to)\n",
    "        C) third takes a list of filenames and print the first line of each\n",
    "        D) fourth takes a list of filenames and print each line that contains an email (just look for @)\n",
    "        E) fifth takes a list of md files and writes all headlines (lines starting with #) to a file Make sure your module can be called both from cli and imported to another module Create a new module that imports utils.py and test each function.\n",
    "\n",
    "## 02 Status\n",
    "    I completed all the steps of the exercise.\n",
    "\n",
    "## 03 Solutions\n"
   ]
  },
  {
   "cell_type": "markdown",
   "metadata": {},
   "source": [
    "## 1) Create a python file with 3 functions:"
   ]
  },
  {
   "cell_type": "code",
   "execution_count": 1,
   "metadata": {
    "tags": []
   },
   "outputs": [
    {
     "name": "stdout",
     "output_type": "stream",
     "text": [
      "Row #1 ['kept', 'under', 'early', 'smaller']\n",
      "Row #2 ['use', 'chosen', 'cross', 'physical']\n",
      "Row #3 ['seed', 'care', 'year', 'land']\n",
      "Row #4 ['loss', 'disappear', 'state', 'draw']\n",
      "Row #5 ['nice', 'getting', 'youth', 'world']\n",
      "Row #6 ['tin', 'queen', 'sitting', 'threw']\n",
      "Row #7 ['push', 'spoken', 'coach', 'where']\n",
      "Row #8 ['want', 'have', 'cowboy', 'face']\n",
      "Row #9 ['hunter', 'truck', 'suggest', 'greater']\n",
      "Row #10 ['title', 'thumb', 'shape', 'successful']\n",
      "Row #11 ['part', 'first', 'be', 'bring']\n",
      "Row #12 ['salt', 'kids', 'past', 'church']\n",
      "Row #13 ['straight', 'grass', 'skill', 'positive']\n",
      "Row #14 ['written', 'your', 'shout', 'continued']\n",
      "Row #15 ['master', 'drove', 'recognize', 'know']\n",
      "Row #16 ['cream', 'public', 'pain', 'somebody']\n",
      "Row #17 ['straight', 'lot', 'equally', 'shoulder']\n",
      "Row #18 ['camp', 'sink', 'harder', 'town']\n",
      "Row #19 ['nest', 'so', 'particularly', 'ourselves']\n",
      "Row #20 ['wrapped', 'cat', 'buried', 'three']\n",
      "Row #21 ['yesterday', 'memory', 'shown', 'cheese']\n",
      "Row #22 ['zero', 'even', 'fewer', 'till']\n",
      "Row #23 ['burst', 'almost', 'chosen', 'bag']\n",
      "Row #24 ['will', 'somewhere', 'sets', 'torn']\n",
      "Row #25 ['scene', 'wild', 'sight', 'salmon']\n",
      "Row #26 ['available', 'draw', 'salmon', 'are']\n"
     ]
    }
   ],
   "source": [
    "# 1a) def print_file_content(file) that can print content of a csv file to the console\n",
    "from pythonFileWithFunctions import print_file_content\n",
    "\n",
    "csvFile = \"randomWords.csv\"\n",
    "\n",
    "print_file_content(csvFile)\n",
    "\n"
   ]
  },
  {
   "cell_type": "code",
   "execution_count": 2,
   "metadata": {},
   "outputs": [
    {
     "ename": "TypeError",
     "evalue": "can only concatenate tuple (not \"str\") to tuple",
     "output_type": "error",
     "traceback": [
      "\u001b[0;31m---------------------------------------------------------------------------\u001b[0m",
      "\u001b[0;31mTypeError\u001b[0m                                 Traceback (most recent call last)",
      "\u001b[0;32m<ipython-input-2-487e337a0478>\u001b[0m in \u001b[0;36m<module>\u001b[0;34m\u001b[0m\n\u001b[1;32m      5\u001b[0m \u001b[0mfileToWrite\u001b[0m \u001b[0;34m=\u001b[0m \u001b[0;34m\"printList.csv\"\u001b[0m\u001b[0;34m\u001b[0m\u001b[0;34m\u001b[0m\u001b[0m\n\u001b[1;32m      6\u001b[0m \u001b[0;34m\u001b[0m\u001b[0m\n\u001b[0;32m----> 7\u001b[0;31m \u001b[0mwrite_list_to_file\u001b[0m\u001b[0;34m(\u001b[0m\u001b[0mfileToWrite\u001b[0m\u001b[0;34m,\u001b[0m \u001b[0mtuplesToWrite\u001b[0m\u001b[0;34m)\u001b[0m\u001b[0;34m\u001b[0m\u001b[0;34m\u001b[0m\u001b[0m\n\u001b[0m\u001b[1;32m      8\u001b[0m \u001b[0;34m\u001b[0m\u001b[0m\n\u001b[1;32m      9\u001b[0m \u001b[0;31m# 1b.a) rewrite the function so that it gets an arbitrary number of strings instead of a list\u001b[0m\u001b[0;34m\u001b[0m\u001b[0;34m\u001b[0m\u001b[0;34m\u001b[0m\u001b[0m\n",
      "\u001b[0;32m~/my_notebooks/Week2/pythonFileWithFunctions.py\u001b[0m in \u001b[0;36mwrite_list_to_file\u001b[0;34m(output_file, *lst)\u001b[0m\n\u001b[1;32m     27\u001b[0m         \u001b[0;31m#    output_writer.writerow(item)\u001b[0m\u001b[0;34m\u001b[0m\u001b[0;34m\u001b[0m\u001b[0;34m\u001b[0m\u001b[0m\n\u001b[1;32m     28\u001b[0m         \u001b[0;32mfor\u001b[0m \u001b[0mitem\u001b[0m \u001b[0;32min\u001b[0m \u001b[0mlst\u001b[0m\u001b[0;34m:\u001b[0m\u001b[0;34m\u001b[0m\u001b[0;34m\u001b[0m\u001b[0m\n\u001b[0;32m---> 29\u001b[0;31m             \u001b[0mfile_object\u001b[0m\u001b[0;34m.\u001b[0m\u001b[0mwrite\u001b[0m\u001b[0;34m(\u001b[0m\u001b[0mitem\u001b[0m \u001b[0;34m+\u001b[0m \u001b[0;34m\"\\n\"\u001b[0m\u001b[0;34m)\u001b[0m\u001b[0;34m\u001b[0m\u001b[0;34m\u001b[0m\u001b[0m\n\u001b[0m\u001b[1;32m     30\u001b[0m \u001b[0;34m\u001b[0m\u001b[0m\n\u001b[1;32m     31\u001b[0m \u001b[0;34m\u001b[0m\u001b[0m\n",
      "\u001b[0;31mTypeError\u001b[0m: can only concatenate tuple (not \"str\") to tuple"
     ]
    }
   ],
   "source": [
    "# 1b) def write_list_to_file(output_file, lst) that can take a list of tuple and write each element to a new line in file\n",
    "from pythonFileWithFunctions import write_list_to_file\n",
    "\n",
    "tuplesToWrite = (\"tuple1\", \"2'nd tuple\", \"and so on\")\n",
    "fileToWrite = \"printList.csv\"\n",
    "\n",
    "write_list_to_file(fileToWrite, tuplesToWrite)\n",
    "\n",
    "# 1b.a) rewrite the function so that it gets an arbitrary number of strings instead of a list\n"
   ]
  },
  {
   "cell_type": "code",
   "execution_count": null,
   "metadata": {},
   "outputs": [],
   "source": [
    "# 1c) def read_csv(input_file) that take a csv file and read each row into a list\n",
    "from pythonFileWithFunctions import read_csv\n",
    "\n",
    "fileToRead = \"printList.csv\"\n",
    "\n",
    "print(read_csv(fileToRead))"
   ]
  },
  {
   "cell_type": "code",
   "execution_count": null,
   "metadata": {},
   "outputs": [],
   "source": []
  }
 ],
 "metadata": {
  "kernelspec": {
   "display_name": "Python 3",
   "language": "python",
   "name": "python3"
  },
  "language_info": {
   "codemirror_mode": {
    "name": "ipython",
    "version": 3
   },
   "file_extension": ".py",
   "mimetype": "text/x-python",
   "name": "python",
   "nbconvert_exporter": "python",
   "pygments_lexer": "ipython3",
   "version": "3.7.6"
  }
 },
 "nbformat": 4,
 "nbformat_minor": 4
}
