{
 "cells": [
  {
   "cell_type": "markdown",
   "metadata": {},
   "source": [
    "# Week 2 handin\n",
    "\n",
    "## 02 Assignment\n",
    "#### EX1\n",
    "    1) Create a python file with 3 functions:\n",
    "        A) def print_file_content(file) that can print content of a csv file to the console\n",
    "        B) def write_list_to_file(output_file, lst) that can take a list of tuple and write each element to a new line in file\n",
    "        C) def read_csv(input_file) that take a csv file and read each row into a list\n",
    "    2) Add a functionality so that the file can be called from cli with 2 arguments\n",
    "        A) path to csv file\n",
    "        B) an argument --file file_name that if given will write the content to file_name or otherwise will print it to the console.\n",
    "    3) Add a --help cli argument to describe how the module is used \n",
    "\n",
    "#### EX2\n",
    "    1) Create a module called utils.py and put the following functions inside:\n",
    "        A) first function takes a path to a folder and writes all filenames in the folder to a specified output file\n",
    "        B) second takes a path to a folder and write all filenames recursively (files of all sub folders to)\n",
    "        C) third takes a list of filenames and print the first line of each\n",
    "        D) fourth takes a list of filenames and print each line that contains an email (just look for @)\n",
    "        E) fifth takes a list of md files and writes all headlines (lines starting with #) to a file Make sure your module can be called both from cli \n",
    "        and imported to another module Create a new module that imports utils.py and test each function.\n",
    "\n",
    "## 02 Status\n",
    "    I completed all the steps of the exercises.\n",
    "\n",
    "## 03 Solutions\n"
   ]
  },
  {
   "cell_type": "markdown",
   "metadata": {},
   "source": [
    "## 1) Create a python file with 3 functions:"
   ]
  },
  {
   "cell_type": "code",
   "execution_count": 1,
   "metadata": {
    "tags": []
   },
   "outputs": [],
   "source": [
    "#Run this before any of the others\n",
    "import my_modules.ex1Functions as ex1Func"
   ]
  },
  {
   "cell_type": "code",
   "execution_count": 2,
   "metadata": {
    "tags": []
   },
   "outputs": [
    {
     "output_type": "stream",
     "name": "stdout",
     "text": "Row #1 ['kept', 'under', 'early', 'smaller']\nRow #2 ['use', 'chosen', 'cross', 'physical']\nRow #3 ['seed', 'care', 'year', 'land']\nRow #4 ['loss', 'disappear', 'state', 'draw']\nRow #5 ['nice', 'getting', 'youth', 'world']\nRow #6 ['tin', 'queen', 'sitting', 'threw']\nRow #7 ['push', 'spoken', 'coach', 'where']\nRow #8 ['want', 'have', 'cowboy', 'face']\nRow #9 ['hunter', 'truck', 'suggest', 'greater']\nRow #10 ['title', 'thumb', 'shape', 'successful']\nRow #11 ['part', 'first', 'be', 'bring']\nRow #12 ['salt', 'kids', 'past', 'church']\nRow #13 ['straight', 'grass', 'skill', 'positive']\nRow #14 ['written', 'your', 'shout', 'continued']\nRow #15 ['master', 'drove', 'recognize', 'know']\nRow #16 ['cream', 'public', 'pain', 'somebody']\nRow #17 ['straight', 'lot', 'equally', 'shoulder']\nRow #18 ['camp', 'sink', 'harder', 'town']\nRow #19 ['nest', 'so', 'particularly', 'ourselves']\nRow #20 ['wrapped', 'cat', 'buried', 'three']\nRow #21 ['yesterday', 'memory', 'shown', 'cheese']\nRow #22 ['zero', 'even', 'fewer', 'till']\nRow #23 ['burst', 'almost', 'chosen', 'bag']\nRow #24 ['will', 'somewhere', 'sets', 'torn']\nRow #25 ['scene', 'wild', 'sight', 'salmon']\nRow #26 ['available', 'draw', 'salmon', 'are']\n"
    }
   ],
   "source": [
    "# 1a) def print_file_content(file) that can print content of a csv file to the console\n",
    "csvFile = \"randomWords.csv\"\n",
    "\n",
    "ex1Func.print_file_content(csvFile)\n",
    "\n"
   ]
  },
  {
   "cell_type": "code",
   "execution_count": 3,
   "metadata": {
    "tags": []
   },
   "outputs": [],
   "source": [
    "# 1b) def write_list_to_file(output_file, lst) that can take a list of tuple and write each element to a new line in file\n",
    "tuplesToWrite = [\"tuple1\", \"2'nd tuple\", \"and so on\"]\n",
    "fileToWrite = \"printList.csv\"\n",
    "\n",
    "ex1Func.write_list_to_file(fileToWrite, tuplesToWrite)\n",
    "\n",
    "# 1b.a) rewrite the function so that it gets an arbitrary number of strings instead of a list"
   ]
  },
  {
   "cell_type": "code",
   "execution_count": 4,
   "metadata": {
    "tags": []
   },
   "outputs": [
    {
     "output_type": "execute_result",
     "data": {
      "text/plain": "['tuple1', \"2'nd tuple\", 'and so on']"
     },
     "metadata": {},
     "execution_count": 4
    }
   ],
   "source": [
    "# 1c) def read_csv(input_file) that take a csv file and read each row into a list\n",
    "fileToRead = \"printList.csv\"\n",
    "\n",
    "ex1Func.read_csv(fileToRead)"
   ]
  },
  {
   "cell_type": "markdown",
   "metadata": {},
   "source": [
    "#### EX1\n",
    "## 2) Add a functionality so that the file can be called from cli with 2 arguments  \n",
    "        A) path to csv file\n",
    "        B) an argument --file file_name that if given will write the content to file_name or otherwise will print it to the console.\n",
    "\n",
    "        - See in ex1Functions.py  \n",
    "\n",
    "## 3)  Add a --help cli argument to describe how the module is used \n",
    "\n",
    "        - See in ex1Functions.py"
   ]
  },
  {
   "cell_type": "markdown",
   "metadata": {},
   "source": [
    "#### EX2  \n",
    "## 1) Create a module called utils.py and put the following functions inside:  \n",
    "        A) first function takes a path to a folder and writes all filenames in the folder to a specified output file      \n",
    "        B) second takes a path to a folder and write all filenames recursively (files of all sub folders to)  \n",
    "        C) third takes a list of filenames and print the first line of each  \n",
    "        D) fourth takes a list of filenames and print each line that contains an email (just look for @)  \n",
    "        E) fifth takes a list of md files and writes all headlines (lines starting with #) to a file Make sure your module can be called both from cli \n",
    "        and imported to another module Create a new module that imports utils.py and test each function.  "
   ]
  },
  {
   "cell_type": "code",
   "execution_count": 5,
   "metadata": {},
   "outputs": [],
   "source": [
    "# Run this before any of the others\n",
    "import my_modules.utils as utils"
   ]
  },
  {
   "cell_type": "code",
   "execution_count": 6,
   "metadata": {
    "tags": []
   },
   "outputs": [],
   "source": [
    "# A) first function takes a path to a folder and writes all filenames in the folder to a specified output file\n",
    "printToFolder = \"files.csv\"\n",
    "path = \".\"\n",
    "utils.files_in_folder(printToFolder, path)\n"
   ]
  },
  {
   "cell_type": "code",
   "execution_count": 7,
   "metadata": {
    "tags": []
   },
   "outputs": [
    {
     "output_type": "stream",
     "name": "stdout",
     "text": "./SubFolder/Test2SubFolder.md\n./SubFolder/Test3SubFolder.csv\n./SubFolder/TestSubFolder.txt\n./SubFolder/SubFoldersSubFolder/Subsub.md\n./SubFolder/SubFoldersSubFolder/Test_subs-sub.txt\n"
    }
   ],
   "source": [
    "# B) second takes a path to a folder and write all filenames recursively (files of all sub folders to)  \n",
    "printToFolder = \"files_subfolders.csv\"\n",
    "path = \"./SubFolder\"\n",
    "utils.files_in_folder_recursive(printToFolder, path)"
   ]
  },
  {
   "cell_type": "code",
   "execution_count": 8,
   "metadata": {
    "tags": []
   },
   "outputs": [
    {
     "output_type": "stream",
     "name": "stdout",
     "text": "# Markdown subfolder 2 test.\n\nSub, Folder, 3\n\nFirst Line of Test Subfolder 1 \n\n# extra headers\nsubfolders, subfolder - line 1 test \n\n"
    }
   ],
   "source": [
    "# C) third takes a list of filenames and print the first line of each  \n",
    "listOfFileNames = ex1Func.read_csv(\"files_subfolders.csv\")\n",
    "utils.print_first_of_file_names(listOfFileNames)"
   ]
  },
  {
   "cell_type": "code",
   "execution_count": 9,
   "metadata": {
    "tags": []
   },
   "outputs": [
    {
     "output_type": "stream",
     "name": "stdout",
     "text": "Test_Sub3Folder@subFolder.com\n\nTest_Sub1Folder@subFolder.com\n\nTest_SubFolder@subs_subFolder.com  \n\n"
    }
   ],
   "source": [
    "# D) fourth takes a list of filenames and print each line that contains an email (just look for @)\n",
    "listOfFileNames = ex1Func.read_csv(\"files_subfolders.csv\")\n",
    "utils.print_all_emails(listOfFileNames)\n",
    "\n"
   ]
  },
  {
   "cell_type": "code",
   "execution_count": 10,
   "metadata": {
    "tags": []
   },
   "outputs": [],
   "source": [
    "# E) fifth takes a list of md files and writes all headlines (lines starting with #) to a file Make sure your module can be called both from cli \n",
    "#    and imported to another module Create a new module that imports utils.py and test each function.  \n",
    "listOfFileNames = ex1Func.read_csv(\"files_subfolders.csv\")\n",
    "printToFolder = \"headerLines.txt\"\n",
    "utils.write_all_headers_to_file(printToFolder, listOfFileNames)\n"
   ]
  }
 ],
 "metadata": {
  "kernelspec": {
   "display_name": "Python 3",
   "language": "python",
   "name": "python3"
  },
  "language_info": {
   "codemirror_mode": {
    "name": "ipython",
    "version": 3
   },
   "file_extension": ".py",
   "mimetype": "text/x-python",
   "name": "python",
   "nbconvert_exporter": "python",
   "pygments_lexer": "ipython3",
   "version": "3.7.6-final"
  }
 },
 "nbformat": 4,
 "nbformat_minor": 4
}